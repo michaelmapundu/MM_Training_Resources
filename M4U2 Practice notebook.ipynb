{
 "cells": [
  {
   "cell_type": "markdown",
   "metadata": {
    "colab_type": "text",
    "id": "ijme60j6T6yh"
   },
   "source": [
    "# Module 4 Unit 2\n",
    "## Fitting neural networks in Python\n",
    "\n",
    "### Classification problem"
   ]
  },
  {
   "cell_type": "code",
   "execution_count": 26,
   "metadata": {
    "colab": {},
    "colab_type": "code",
    "collapsed": true,
    "id": "d6yPDwE1O87Q"
   },
   "outputs": [],
   "source": [
    "# Import libraries\n",
    "import pandas as pd\n",
    "from sklearn.preprocessing import StandardScaler\n",
    "from sklearn.neural_network import MLPClassifier\n",
    "from sklearn.model_selection import train_test_split, cross_val_score\n",
    "from sklearn.metrics import accuracy_score\n",
    "import matplotlib.pyplot as plt\n",
    "import numpy as np"
   ]
  },
  {
   "cell_type": "markdown",
   "metadata": {
    "colab_type": "text",
    "id": "qx-ikinDgHuF"
   },
   "source": [
    "Now that the required libraries have been imported, it is time to import and clean the data."
   ]
  },
  {
   "cell_type": "code",
   "execution_count": 27,
   "metadata": {
    "colab": {},
    "colab_type": "code",
    "id": "XJjNMWNTDndh",
    "outputId": "3c2f2f54-f60c-4446-fcfc-a52fd0fd2c12"
   },
   "outputs": [
    {
     "name": "stdout",
     "output_type": "stream",
     "text": [
      "Number of null values in the data set = 615\n"
     ]
    }
   ],
   "source": [
    "# Import data\n",
    "df = pd.read_csv('WISDM_transformed.csv', delimiter = \",\")\n",
    "\n",
    "# Drop missing entries\n",
    "df = df.replace(\"?\", np.nan)\n",
    "print(\"Number of null values in the data set = %s\" % df.isnull().sum().sum())\n",
    "df = df.dropna()"
   ]
  },
  {
   "cell_type": "code",
   "execution_count": 28,
   "metadata": {
    "colab": {},
    "colab_type": "code",
    "id": "OJ9B_vFALeIl",
    "outputId": "15eb4542-0829-4ab0-d9b9-848118fd3368"
   },
   "outputs": [
    {
     "data": {
      "text/plain": [
       "(4944, 47)"
      ]
     },
     "execution_count": 28,
     "metadata": {},
     "output_type": "execute_result"
    }
   ],
   "source": [
    "# Explore the size of the data set\n",
    "df.shape"
   ]
  },
  {
   "cell_type": "code",
   "execution_count": 29,
   "metadata": {
    "colab": {},
    "colab_type": "code",
    "id": "3DIKNci5LeIo",
    "outputId": "3dadd025-5900-4914-b0fe-88deb7f3ecd2"
   },
   "outputs": [
    {
     "data": {
      "text/html": [
       "<div>\n",
       "<style scoped>\n",
       "    .dataframe tbody tr th:only-of-type {\n",
       "        vertical-align: middle;\n",
       "    }\n",
       "\n",
       "    .dataframe tbody tr th {\n",
       "        vertical-align: top;\n",
       "    }\n",
       "\n",
       "    .dataframe thead th {\n",
       "        text-align: right;\n",
       "    }\n",
       "</style>\n",
       "<table border=\"1\" class=\"dataframe\">\n",
       "  <thead>\n",
       "    <tr style=\"text-align: right;\">\n",
       "      <th></th>\n",
       "      <th>id</th>\n",
       "      <th>UNIQUE_ID</th>\n",
       "      <th>user</th>\n",
       "      <th>X0</th>\n",
       "      <th>X1</th>\n",
       "      <th>X2</th>\n",
       "      <th>X3</th>\n",
       "      <th>X4</th>\n",
       "      <th>X5</th>\n",
       "      <th>X6</th>\n",
       "      <th>...</th>\n",
       "      <th>YPEAK</th>\n",
       "      <th>ZPEAK</th>\n",
       "      <th>XABSOLDEV</th>\n",
       "      <th>YABSOLDEV</th>\n",
       "      <th>ZABSOLDEV</th>\n",
       "      <th>XSTANDDEV</th>\n",
       "      <th>YSTANDDEV</th>\n",
       "      <th>ZSTANDDEV</th>\n",
       "      <th>RESULTANT</th>\n",
       "      <th>class</th>\n",
       "    </tr>\n",
       "  </thead>\n",
       "  <tbody>\n",
       "    <tr>\n",
       "      <th>3992</th>\n",
       "      <td>3993</td>\n",
       "      <td>432</td>\n",
       "      <td>31</td>\n",
       "      <td>0.13</td>\n",
       "      <td>0.10</td>\n",
       "      <td>0.10</td>\n",
       "      <td>0.11</td>\n",
       "      <td>0.08</td>\n",
       "      <td>0.10</td>\n",
       "      <td>0.11</td>\n",
       "      <td>...</td>\n",
       "      <td>417.39</td>\n",
       "      <td>685.71</td>\n",
       "      <td>7.17</td>\n",
       "      <td>7.59</td>\n",
       "      <td>3.35</td>\n",
       "      <td>10.06</td>\n",
       "      <td>8.62</td>\n",
       "      <td>10.06</td>\n",
       "      <td>12.75</td>\n",
       "      <td>Jogging</td>\n",
       "    </tr>\n",
       "    <tr>\n",
       "      <th>3635</th>\n",
       "      <td>3636</td>\n",
       "      <td>75</td>\n",
       "      <td>34</td>\n",
       "      <td>0.13</td>\n",
       "      <td>0.12</td>\n",
       "      <td>0.10</td>\n",
       "      <td>0.08</td>\n",
       "      <td>0.08</td>\n",
       "      <td>0.08</td>\n",
       "      <td>0.08</td>\n",
       "      <td>...</td>\n",
       "      <td>696.15</td>\n",
       "      <td>1800</td>\n",
       "      <td>4.91</td>\n",
       "      <td>5.00</td>\n",
       "      <td>3.79</td>\n",
       "      <td>5.92</td>\n",
       "      <td>6.02</td>\n",
       "      <td>5.92</td>\n",
       "      <td>12.71</td>\n",
       "      <td>Walking</td>\n",
       "    </tr>\n",
       "    <tr>\n",
       "      <th>1160</th>\n",
       "      <td>1161</td>\n",
       "      <td>498</td>\n",
       "      <td>36</td>\n",
       "      <td>0.03</td>\n",
       "      <td>0.06</td>\n",
       "      <td>0.12</td>\n",
       "      <td>0.15</td>\n",
       "      <td>0.12</td>\n",
       "      <td>0.14</td>\n",
       "      <td>0.18</td>\n",
       "      <td>...</td>\n",
       "      <td>2800</td>\n",
       "      <td>3183.33</td>\n",
       "      <td>3.38</td>\n",
       "      <td>3.83</td>\n",
       "      <td>2.71</td>\n",
       "      <td>4.32</td>\n",
       "      <td>4.73</td>\n",
       "      <td>4.32</td>\n",
       "      <td>10.94</td>\n",
       "      <td>Jogging</td>\n",
       "    </tr>\n",
       "    <tr>\n",
       "      <th>4023</th>\n",
       "      <td>4024</td>\n",
       "      <td>463</td>\n",
       "      <td>31</td>\n",
       "      <td>0.13</td>\n",
       "      <td>0.11</td>\n",
       "      <td>0.10</td>\n",
       "      <td>0.13</td>\n",
       "      <td>0.08</td>\n",
       "      <td>0.11</td>\n",
       "      <td>0.12</td>\n",
       "      <td>...</td>\n",
       "      <td>745.83</td>\n",
       "      <td>2583.33</td>\n",
       "      <td>2.32</td>\n",
       "      <td>3.79</td>\n",
       "      <td>2.96</td>\n",
       "      <td>2.90</td>\n",
       "      <td>4.54</td>\n",
       "      <td>2.90</td>\n",
       "      <td>10.99</td>\n",
       "      <td>Walking</td>\n",
       "    </tr>\n",
       "    <tr>\n",
       "      <th>1125</th>\n",
       "      <td>1126</td>\n",
       "      <td>463</td>\n",
       "      <td>36</td>\n",
       "      <td>0.12</td>\n",
       "      <td>0.07</td>\n",
       "      <td>0.08</td>\n",
       "      <td>0.11</td>\n",
       "      <td>0.08</td>\n",
       "      <td>0.13</td>\n",
       "      <td>0.11</td>\n",
       "      <td>...</td>\n",
       "      <td>1912.5</td>\n",
       "      <td>1362.5</td>\n",
       "      <td>2.06</td>\n",
       "      <td>3.02</td>\n",
       "      <td>2.38</td>\n",
       "      <td>2.51</td>\n",
       "      <td>3.60</td>\n",
       "      <td>2.51</td>\n",
       "      <td>10.72</td>\n",
       "      <td>Walking</td>\n",
       "    </tr>\n",
       "    <tr>\n",
       "      <th>2254</th>\n",
       "      <td>2255</td>\n",
       "      <td>418</td>\n",
       "      <td>28</td>\n",
       "      <td>0.02</td>\n",
       "      <td>0.10</td>\n",
       "      <td>0.08</td>\n",
       "      <td>0.10</td>\n",
       "      <td>0.10</td>\n",
       "      <td>0.09</td>\n",
       "      <td>0.09</td>\n",
       "      <td>...</td>\n",
       "      <td>1358.33</td>\n",
       "      <td>1637.5</td>\n",
       "      <td>1.90</td>\n",
       "      <td>2.36</td>\n",
       "      <td>1.44</td>\n",
       "      <td>2.32</td>\n",
       "      <td>2.94</td>\n",
       "      <td>2.32</td>\n",
       "      <td>10.27</td>\n",
       "      <td>Downstairs</td>\n",
       "    </tr>\n",
       "    <tr>\n",
       "      <th>4926</th>\n",
       "      <td>4927</td>\n",
       "      <td>408</td>\n",
       "      <td>2</td>\n",
       "      <td>0.10</td>\n",
       "      <td>0.10</td>\n",
       "      <td>0.11</td>\n",
       "      <td>0.09</td>\n",
       "      <td>0.07</td>\n",
       "      <td>0.11</td>\n",
       "      <td>0.11</td>\n",
       "      <td>...</td>\n",
       "      <td>3350</td>\n",
       "      <td>1610</td>\n",
       "      <td>7.69</td>\n",
       "      <td>3.38</td>\n",
       "      <td>4.48</td>\n",
       "      <td>10.26</td>\n",
       "      <td>4.29</td>\n",
       "      <td>10.26</td>\n",
       "      <td>10.51</td>\n",
       "      <td>Jogging</td>\n",
       "    </tr>\n",
       "    <tr>\n",
       "      <th>4044</th>\n",
       "      <td>4045</td>\n",
       "      <td>484</td>\n",
       "      <td>31</td>\n",
       "      <td>0.02</td>\n",
       "      <td>0.13</td>\n",
       "      <td>0.13</td>\n",
       "      <td>0.12</td>\n",
       "      <td>0.12</td>\n",
       "      <td>0.12</td>\n",
       "      <td>0.07</td>\n",
       "      <td>...</td>\n",
       "      <td>571.88</td>\n",
       "      <td>2666.67</td>\n",
       "      <td>8.08</td>\n",
       "      <td>6.68</td>\n",
       "      <td>3.44</td>\n",
       "      <td>10.99</td>\n",
       "      <td>7.88</td>\n",
       "      <td>10.99</td>\n",
       "      <td>12.09</td>\n",
       "      <td>Jogging</td>\n",
       "    </tr>\n",
       "    <tr>\n",
       "      <th>204</th>\n",
       "      <td>205</td>\n",
       "      <td>205</td>\n",
       "      <td>20</td>\n",
       "      <td>0.08</td>\n",
       "      <td>0.09</td>\n",
       "      <td>0.14</td>\n",
       "      <td>0.10</td>\n",
       "      <td>0.09</td>\n",
       "      <td>0.11</td>\n",
       "      <td>0.13</td>\n",
       "      <td>...</td>\n",
       "      <td>2916.67</td>\n",
       "      <td>2533.33</td>\n",
       "      <td>4.62</td>\n",
       "      <td>2.92</td>\n",
       "      <td>1.96</td>\n",
       "      <td>5.36</td>\n",
       "      <td>3.66</td>\n",
       "      <td>5.36</td>\n",
       "      <td>10.54</td>\n",
       "      <td>Downstairs</td>\n",
       "    </tr>\n",
       "    <tr>\n",
       "      <th>4816</th>\n",
       "      <td>4817</td>\n",
       "      <td>298</td>\n",
       "      <td>9</td>\n",
       "      <td>0.02</td>\n",
       "      <td>0.09</td>\n",
       "      <td>0.06</td>\n",
       "      <td>0.10</td>\n",
       "      <td>0.08</td>\n",
       "      <td>0.09</td>\n",
       "      <td>0.08</td>\n",
       "      <td>...</td>\n",
       "      <td>820</td>\n",
       "      <td>1525</td>\n",
       "      <td>1.31</td>\n",
       "      <td>2.58</td>\n",
       "      <td>2.07</td>\n",
       "      <td>1.94</td>\n",
       "      <td>3.61</td>\n",
       "      <td>1.94</td>\n",
       "      <td>9.07</td>\n",
       "      <td>Walking</td>\n",
       "    </tr>\n",
       "  </tbody>\n",
       "</table>\n",
       "<p>10 rows × 47 columns</p>\n",
       "</div>"
      ],
      "text/plain": [
       "        id  UNIQUE_ID  user    X0    X1    X2    X3    X4    X5    X6  ...  \\\n",
       "3992  3993        432    31  0.13  0.10  0.10  0.11  0.08  0.10  0.11  ...   \n",
       "3635  3636         75    34  0.13  0.12  0.10  0.08  0.08  0.08  0.08  ...   \n",
       "1160  1161        498    36  0.03  0.06  0.12  0.15  0.12  0.14  0.18  ...   \n",
       "4023  4024        463    31  0.13  0.11  0.10  0.13  0.08  0.11  0.12  ...   \n",
       "1125  1126        463    36  0.12  0.07  0.08  0.11  0.08  0.13  0.11  ...   \n",
       "2254  2255        418    28  0.02  0.10  0.08  0.10  0.10  0.09  0.09  ...   \n",
       "4926  4927        408     2  0.10  0.10  0.11  0.09  0.07  0.11  0.11  ...   \n",
       "4044  4045        484    31  0.02  0.13  0.13  0.12  0.12  0.12  0.07  ...   \n",
       "204    205        205    20  0.08  0.09  0.14  0.10  0.09  0.11  0.13  ...   \n",
       "4816  4817        298     9  0.02  0.09  0.06  0.10  0.08  0.09  0.08  ...   \n",
       "\n",
       "        YPEAK    ZPEAK  XABSOLDEV  YABSOLDEV  ZABSOLDEV  XSTANDDEV  YSTANDDEV  \\\n",
       "3992   417.39   685.71       7.17       7.59       3.35      10.06       8.62   \n",
       "3635   696.15     1800       4.91       5.00       3.79       5.92       6.02   \n",
       "1160     2800  3183.33       3.38       3.83       2.71       4.32       4.73   \n",
       "4023   745.83  2583.33       2.32       3.79       2.96       2.90       4.54   \n",
       "1125   1912.5   1362.5       2.06       3.02       2.38       2.51       3.60   \n",
       "2254  1358.33   1637.5       1.90       2.36       1.44       2.32       2.94   \n",
       "4926     3350     1610       7.69       3.38       4.48      10.26       4.29   \n",
       "4044   571.88  2666.67       8.08       6.68       3.44      10.99       7.88   \n",
       "204   2916.67  2533.33       4.62       2.92       1.96       5.36       3.66   \n",
       "4816      820     1525       1.31       2.58       2.07       1.94       3.61   \n",
       "\n",
       "      ZSTANDDEV  RESULTANT       class  \n",
       "3992      10.06      12.75     Jogging  \n",
       "3635       5.92      12.71     Walking  \n",
       "1160       4.32      10.94     Jogging  \n",
       "4023       2.90      10.99     Walking  \n",
       "1125       2.51      10.72     Walking  \n",
       "2254       2.32      10.27  Downstairs  \n",
       "4926      10.26      10.51     Jogging  \n",
       "4044      10.99      12.09     Jogging  \n",
       "204        5.36      10.54  Downstairs  \n",
       "4816       1.94       9.07     Walking  \n",
       "\n",
       "[10 rows x 47 columns]"
      ]
     },
     "execution_count": 29,
     "metadata": {},
     "output_type": "execute_result"
    }
   ],
   "source": [
    "# Explore type of data and feature names\n",
    "# You can use df.head() or df.tail() to see the first or last few records, respectively.\n",
    "# However, if data is sorted, it is better to view some randomly sampled records\n",
    "df.sample(10, random_state=0)"
   ]
  },
  {
   "cell_type": "code",
   "execution_count": 30,
   "metadata": {
    "colab": {},
    "colab_type": "code",
    "id": "PioAGSNhLeIu",
    "outputId": "8ee9a094-3c40-451c-b766-d395961a274d"
   },
   "outputs": [
    {
     "name": "stdout",
     "output_type": "stream",
     "text": [
      "['Jogging' 'Walking' 'Upstairs' 'Downstairs' 'Sitting' 'Standing']\n"
     ]
    }
   ],
   "source": [
    "# Display all the unique values in the class column\n",
    "print(df['class'].unique())"
   ]
  },
  {
   "cell_type": "markdown",
   "metadata": {
    "colab_type": "text",
    "id": "fpFhlwMBBeiF"
   },
   "source": [
    "For the features, choose all the columns except the `id`, `UNIQUE_ID`,`user`, and `class` variables. The `class` variable will be the response variable."
   ]
  },
  {
   "cell_type": "code",
   "execution_count": 31,
   "metadata": {
    "colab": {},
    "colab_type": "code",
    "collapsed": true,
    "id": "5DGT-eovLeIr"
   },
   "outputs": [],
   "source": [
    "# Split data into features (X) and response (y)\n",
    "X = df.iloc[:, 3:46] \n",
    "y = df.loc[:,[\"class\"]]"
   ]
  },
  {
   "cell_type": "code",
   "execution_count": 32,
   "metadata": {
    "colab": {},
    "colab_type": "code",
    "collapsed": true,
    "id": "7dnjSRQnLeIw"
   },
   "outputs": [],
   "source": [
    "# Change the array shape of the output from a dataframe single column vector\n",
    "# to a contiguous flattened array\n",
    "y = np.ravel(y)"
   ]
  },
  {
   "cell_type": "code",
   "execution_count": 33,
   "metadata": {
    "colab": {},
    "colab_type": "code",
    "collapsed": true,
    "id": "QzVcIAwPj1Y0"
   },
   "outputs": [],
   "source": [
    "# Split the data into the training set and testing set\n",
    "X_train, X_test, y_train, y_test = train_test_split(X, y, random_state=0)"
   ]
  },
  {
   "cell_type": "markdown",
   "metadata": {
    "colab_type": "text",
    "id": "B4rL1gZ0BeiS"
   },
   "source": [
    "Note that the features have widely varying dimensions: X0 is a proportion between 0 and 1;\n",
    "YPeak can be in the thousands and ZSTANDDEV is a standard deviation. \n",
    "Since neural networks are much more sensitive to features with high (absolute) values,\n",
    "you should scale all your input data to have a mean of 0 and standard deviation of 1."
   ]
  },
  {
   "cell_type": "code",
   "execution_count": 34,
   "metadata": {
    "colab": {},
    "colab_type": "code",
    "collapsed": true,
    "id": "XI6VPQIhkz-b"
   },
   "outputs": [],
   "source": [
    "# Scale the data\n",
    "scaler = StandardScaler()  \n",
    "\n",
    "# Remember to fit using only the training data\n",
    "scaler.fit(X_train)  \n",
    "X_train = scaler.transform(X_train)  \n",
    "\n",
    "# Apply the same transformation to test data\n",
    "X_test = scaler.transform(X_test)"
   ]
  },
  {
   "cell_type": "markdown",
   "metadata": {
    "colab_type": "text",
    "id": "ML7Ww_1HgHuc"
   },
   "source": [
    "Next, you fit a two-layer MLP classifier with 5 nodes on each layer."
   ]
  },
  {
   "cell_type": "code",
   "execution_count": 35,
   "metadata": {
    "colab": {},
    "colab_type": "code",
    "id": "-56PDZIkgHud",
    "outputId": "6c5161d0-f7ea-4743-9cd5-90e749adf0de"
   },
   "outputs": [
    {
     "data": {
      "text/plain": [
       "0.7928802588996764"
      ]
     },
     "execution_count": 35,
     "metadata": {},
     "output_type": "execute_result"
    }
   ],
   "source": [
    "reg = MLPClassifier(max_iter=2000, hidden_layer_sizes=(5,5), random_state=1)\n",
    "reg.fit(X_train, y_train)\n",
    "\n",
    "# Predict\n",
    "y_pred = reg.predict(X_test)\n",
    "    \n",
    "# Accuracy before model parameter optimisation\n",
    "accuracy_score(y_pred,y_test)"
   ]
  },
  {
   "cell_type": "markdown",
   "metadata": {
    "colab_type": "text",
    "id": "qfgT7gY6gHuf"
   },
   "source": [
    "Can you get a better accuracy? More nodes on each layer could lead to overfitting.\n",
    "Fewer nodes could make the model too sparse. \n",
    "Use cross-validation to find the optimal number of nodes per layer."
   ]
  },
  {
   "cell_type": "code",
   "execution_count": 36,
   "metadata": {
    "colab": {},
    "colab_type": "code",
    "id": "RKJWwbZegHug",
    "outputId": "b97c2285-ca45-4fea-fb38-12f6793fcb54"
   },
   "outputs": [
    {
     "name": "stdout",
     "output_type": "stream",
     "text": [
      "Nodes |Validation\n",
      "      | score\n",
      "(3, 3) : 0.78425\n",
      "(3, 4) : 0.77292\n",
      "(3, 5) : 0.79099\n",
      "(3, 6) : 0.78883\n",
      "(4, 3) : 0.79369\n",
      "(4, 4) : 0.79908\n",
      "(4, 5) : 0.79261\n",
      "(4, 6) : 0.79773\n",
      "(5, 3) : 0.76780\n",
      "(5, 4) : 0.78101\n",
      "(5, 5) : 0.79099\n",
      "(5, 6) : 0.78910\n",
      "(6, 3) : 0.76079\n",
      "(6, 4) : 0.78641\n",
      "(6, 5) : 0.78128\n",
      "(6, 6) : 0.79720\n"
     ]
    }
   ],
   "source": [
    "# Fit and check accuracy for various numbers of nodes on both layers\n",
    "# Note this will take some time\n",
    "validation_scores = {}\n",
    "print(\"Nodes |Validation\")\n",
    "print(\"      | score\")\n",
    "\n",
    "for hidden_layer_size in [(i,j) for i in range(3,7) for j in range(3,7)]:\n",
    "\n",
    "    reg = MLPClassifier(max_iter=2000, hidden_layer_sizes=hidden_layer_size, random_state=1)\n",
    "\n",
    "    score = cross_val_score(estimator=reg, X=X_train, y=y_train, cv=2)\n",
    "    validation_scores[hidden_layer_size] = score.mean()\n",
    "    print(hidden_layer_size, \": %0.5f\" % validation_scores[hidden_layer_size])"
   ]
  },
  {
   "cell_type": "code",
   "execution_count": 37,
   "metadata": {
    "colab": {},
    "colab_type": "code",
    "id": "ARS5V1lIgHuj",
    "outputId": "211d2ffb-9ad1-42c0-b808-d65632775696"
   },
   "outputs": [
    {
     "data": {
      "image/png": "[encoded data removed]",
      "text/plain": [
       "<Figure size 432x288 with 1 Axes>"
      ]
     },
     "metadata": {
      "needs_background": "light"
     },
     "output_type": "display_data"
    }
   ],
   "source": [
    "# Vizualise these using a 3D surface plot\n",
    "from mpl_toolkits.mplot3d import Axes3D\n",
    "from matplotlib import cm\n",
    "from matplotlib.ticker import LinearLocator, FormatStrFormatter\n",
    "\n",
    "fig = plt.figure()\n",
    "ax = fig.gca(projection='3d')\n",
    "\n",
    "# Prepare the data\n",
    "px, py = np.meshgrid(np.arange(3,7), np.arange(3,7))\n",
    "pz = np.array([[validation_scores[(i,j)] for i in range(3,7)] for j in range(3,7)])\n",
    "\n",
    "# Customize the z-axis\n",
    "ax.set_zlim(0.76, .81)\n",
    "\n",
    "# Plot the surface\n",
    "surf = ax.plot_surface(px, py, pz)\n",
    "plt.show()"
   ]
  },
  {
   "cell_type": "code",
   "execution_count": 38,
   "metadata": {
    "colab": {},
    "colab_type": "code",
    "id": "CDtUeIEwgHul",
    "outputId": "b254d53f-308a-4308-e44e-a4c838efff47"
   },
   "outputs": [
    {
     "name": "stdout",
     "output_type": "stream",
     "text": [
      "The highest validation score is: 0.7991\n",
      "This corresponds to nodes (4, 4)\n"
     ]
    }
   ],
   "source": [
    "# Check scores\n",
    "print(\"The highest validation score is: %0.4f\" % max(validation_scores.values()))  \n",
    "optimal_hidden_layer_size = [name for name, score in validation_scores.items() \n",
    "                              if score==max(validation_scores.values())][0]\n",
    "print(\"This corresponds to nodes\", optimal_hidden_layer_size )"
   ]
  },
  {
   "cell_type": "code",
   "execution_count": 39,
   "metadata": {
    "colab": {},
    "colab_type": "code",
    "id": "HKJUdkRok0OM",
    "outputId": "84aa4e33-6a17-4544-93f0-e6d6d7d7435b"
   },
   "outputs": [
    {
     "data": {
      "text/plain": [
       "MLPClassifier(activation='relu', alpha=0.0001, batch_size='auto', beta_1=0.9,\n",
       "              beta_2=0.999, early_stopping=False, epsilon=1e-08,\n",
       "              hidden_layer_sizes=(4, 4), learning_rate='constant',\n",
       "              learning_rate_init=0.001, max_fun=15000, max_iter=2000,\n",
       "              momentum=0.9, n_iter_no_change=10, nesterovs_momentum=True,\n",
       "              power_t=0.5, random_state=1, shuffle=True, solver='adam',\n",
       "              tol=0.0001, validation_fraction=0.1, verbose=False,\n",
       "              warm_start=False)"
      ]
     },
     "execution_count": 39,
     "metadata": {},
     "output_type": "execute_result"
    }
   ],
   "source": [
    "# Fit data with best parameter\n",
    "clf = MLPClassifier(max_iter=2000, \n",
    "                    hidden_layer_sizes=optimal_hidden_layer_size, \n",
    "                    random_state=1)\n",
    "clf.fit(X_train, y_train)\n",
    "# Does not converge fully without changing max_iter"
   ]
  },
  {
   "cell_type": "code",
   "execution_count": 40,
   "metadata": {
    "colab": {},
    "colab_type": "code",
    "id": "0h9ihZ6_k9_b",
    "outputId": "458f7997-9258-48e0-e8e9-8b106af8537a"
   },
   "outputs": [
    {
     "data": {
      "text/plain": [
       "0.8163430420711975"
      ]
     },
     "execution_count": 40,
     "metadata": {},
     "output_type": "execute_result"
    }
   ],
   "source": [
    "# Predict\n",
    "y_pred = clf.predict(X_test)\n",
    "\n",
    "# Accuracy \n",
    "accuracy_score(y_pred,y_test)"
   ]
  },
  {
   "cell_type": "code",
   "execution_count": 25,
   "metadata": {
    "colab": {},
    "colab_type": "code",
    "id": "LVEkT8aVDndp",
    "outputId": "34c426c4-2a65-4f8e-f923-cf5533642523"
   },
   "outputs": [
    {
     "data": {
      "image/png": "[encoded data removed]",
      "text/plain": [
       "<Figure size 432x288 with 1 Axes>"
      ]
     },
     "metadata": {
      "needs_background": "light"
     },
     "output_type": "display_data"
    }
   ],
   "source": [
    "# Draw a response function to observe response vs resultant \n",
    "\n",
    "# Copy dataframe so as to not change original, and obtain medians\n",
    "X_design = X.copy()\n",
    "X_design_vec = pd.DataFrame(X_design.median()).transpose()\n",
    "\n",
    "# View X_design_vec\n",
    "X_design_vec.head()\n",
    "\n",
    "# Find the min and max of the desired feature and set up a sequence\n",
    "min_resultant = min(X.loc[:,\"RESULTANT\"])\n",
    "max_resultant = max(X.loc[:,\"RESULTANT\"])\n",
    "seq = np.linspace(start=min_resultant,stop=max_resultant,num=50)\n",
    "\n",
    "# Set up a list of moving resultants\n",
    "to_predict = []\n",
    "for result in seq:\n",
    "    X_design_vec.loc[0,\"RESULTANT\"] = result\n",
    "    to_predict.append(X_design_vec.copy())\n",
    "\n",
    "# Convert back to dataframe\n",
    "to_predict = pd.concat(to_predict)\n",
    "\n",
    "# Scale and predict\n",
    "to_predict = scaler.transform(to_predict)\n",
    "predictions = clf.predict(to_predict)\n",
    "\n",
    "# Plot \n",
    "plt.plot(seq,predictions)\n",
    "plt.xlabel(\"Resultant\")\n",
    "plt.ylabel(\"Class\")\n",
    "plt.title(\"Response vs Resultant\")\n",
    "plt.show()"
   ]
  },
  {
   "cell_type": "code",
   "execution_count": 41,
   "metadata": {},
   "outputs": [
    {
     "data": {
      "image/png": "[encoded data removed]",
      "text/plain": [
       "<Figure size 432x288 with 1 Axes>"
      ]
     },
     "metadata": {
      "needs_background": "light"
     },
     "output_type": "display_data"
    }
   ],
   "source": [
    "# Draw a response function to observe response vs resultant \n",
    "\n",
    "# Copy dataframe so as to not change original, and obtain medians\n",
    "X_design = X.copy()\n",
    "X_design_vec = pd.DataFrame(X_design.median()).transpose()\n",
    "\n",
    "# View X_design_vec\n",
    "X_design_vec.head()\n",
    "\n",
    "# Find the min and max of the desired feature and set up a sequence\n",
    "min_resultant = min(X.loc[:,\"XSTANDDEV\"])\n",
    "max_resultant = max(X.loc[:,\"XSTANDDEV\"])\n",
    "seq = np.linspace(start=min_resultant,stop=max_resultant,num=50)\n",
    "\n",
    "# Set up a list of moving resultants\n",
    "to_predict = []\n",
    "for result in seq:\n",
    "    X_design_vec.loc[0,\"XSTANDDEV\"] = result\n",
    "    to_predict.append(X_design_vec.copy())\n",
    "\n",
    "# Convert back to dataframe\n",
    "to_predict = pd.concat(to_predict)\n",
    "\n",
    "# Scale and predict\n",
    "to_predict = scaler.transform(to_predict)\n",
    "predictions = clf.predict(to_predict)\n",
    "\n",
    "# Plot \n",
    "plt.plot(seq,predictions)\n",
    "plt.xlabel(\"Standard_deviation\")\n",
    "plt.ylabel(\"Class\")\n",
    "plt.title(\"Response vs Standard dev\")\n",
    "plt.show()\n"
   ]
  },
  {
   "cell_type": "markdown",
   "metadata": {
    "colab_type": "text",
    "id": "EThNkEgkBein"
   },
   "source": [
    "The `RESULTANT`, which is the average resultant acceleration, is plotted against selected classes. Does this make intuitive sense?"
   ]
  },
  {
   "cell_type": "markdown",
   "metadata": {
    "colab_type": "text",
    "id": "Urpj11TNBeio"
   },
   "source": [
    "Continue to the small group discussion to discuss the outcomes of this model."
   ]
  }
 ],
 "metadata": {
  "colab": {
   "collapsed_sections": [],
   "name": "UCT DSS M4U2 IDE Notebook (code)_v15_BC.ipynb",
   "provenance": []
  },
  "kernelspec": {
   "display_name": "Python 3",
   "language": "python",
   "name": "python3"
  },
  "language_info": {
   "codemirror_mode": {
    "name": "ipython",
    "version": 3
   },
   "file_extension": ".py",
   "mimetype": "text/x-python",
   "name": "python",
   "nbconvert_exporter": "python",
   "pygments_lexer": "ipython3",
   "version": "3.8.5"
  }
 },
 "nbformat": 4,
 "nbformat_minor": 4
}

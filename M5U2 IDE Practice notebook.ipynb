{
 "cells": [
  {
   "cell_type": "markdown",
   "metadata": {
    "colab_type": "text",
    "id": "lYKklRHk1J9J"
   },
   "source": [
    "# Module 5 Unit 2\n",
    "## Improving neural networks with regularisation\n",
    "\n",
    "### Regression problem\n"
   ]
  },
  {
   "cell_type": "code",
   "execution_count": 1,
   "metadata": {
    "colab": {},
    "colab_type": "code",
    "id": "vqAYV46Nunff"
   },
   "outputs": [],
   "source": [
    "# Import libraries\n",
    "import pandas as pd\n",
    "from sklearn.preprocessing import StandardScaler\n",
    "from sklearn.neural_network import MLPRegressor\n",
    "from sklearn.model_selection import train_test_split, cross_val_score\n",
    "from sklearn.metrics import mean_squared_error\n",
    "import matplotlib.pyplot as plt\n",
    "import numpy as np"
   ]
  },
  {
   "cell_type": "markdown",
   "metadata": {
    "colab_type": "text",
    "id": "J4kALnuRpdsZ"
   },
   "source": [
    "## Highway accidents\n"
   ]
  },
  {
   "cell_type": "code",
   "execution_count": 2,
   "metadata": {
    "colab": {},
    "colab_type": "code",
    "id": "BjVWkDN7nUu7"
   },
   "outputs": [],
   "source": [
    "# Import data\n",
    "df = pd.read_csv('Highway.txt', delimiter = \" \")"
   ]
  },
  {
   "cell_type": "code",
   "execution_count": 3,
   "metadata": {
    "colab": {},
    "colab_type": "code",
    "id": "oI4uK3RU_Ldn",
    "outputId": "15cd2325-8834-4e60-82d4-902d9af5a871"
   },
   "outputs": [
    {
     "data": {
      "text/plain": [
       "(39, 12)"
      ]
     },
     "execution_count": 3,
     "metadata": {},
     "output_type": "execute_result"
    }
   ],
   "source": [
    "# Explore the size of the data set\n",
    "df.shape"
   ]
  },
  {
   "cell_type": "code",
   "execution_count": 4,
   "metadata": {
    "colab": {},
    "colab_type": "code",
    "id": "Ubx6-hcXXr8l",
    "outputId": "992e40e8-26cd-4c11-f508-12aac8779374"
   },
   "outputs": [
    {
     "data": {
      "text/html": [
       "<div>\n",
       "<style scoped>\n",
       "    .dataframe tbody tr th:only-of-type {\n",
       "        vertical-align: middle;\n",
       "    }\n",
       "\n",
       "    .dataframe tbody tr th {\n",
       "        vertical-align: top;\n",
       "    }\n",
       "\n",
       "    .dataframe thead th {\n",
       "        text-align: right;\n",
       "    }\n",
       "</style>\n",
       "<table border=\"1\" class=\"dataframe\">\n",
       "  <thead>\n",
       "    <tr style=\"text-align: right;\">\n",
       "      <th></th>\n",
       "      <th>lgRate</th>\n",
       "      <th>lgADT</th>\n",
       "      <th>lgTrks</th>\n",
       "      <th>Lane</th>\n",
       "      <th>Acpt</th>\n",
       "      <th>lgSigs</th>\n",
       "      <th>Itg</th>\n",
       "      <th>Slim</th>\n",
       "      <th>lgLen</th>\n",
       "      <th>Lwid</th>\n",
       "      <th>Shld</th>\n",
       "      <th>Hwy</th>\n",
       "    </tr>\n",
       "  </thead>\n",
       "  <tbody>\n",
       "    <tr>\n",
       "      <th>4</th>\n",
       "      <td>0.687061</td>\n",
       "      <td>4.807355</td>\n",
       "      <td>3.584963</td>\n",
       "      <td>4</td>\n",
       "      <td>2.2</td>\n",
       "      <td>-4.322649</td>\n",
       "      <td>0.65</td>\n",
       "      <td>70</td>\n",
       "      <td>4.322649</td>\n",
       "      <td>12</td>\n",
       "      <td>10</td>\n",
       "      <td>Principal</td>\n",
       "    </tr>\n",
       "    <tr>\n",
       "      <th>28</th>\n",
       "      <td>2.903038</td>\n",
       "      <td>3.584963</td>\n",
       "      <td>2.807355</td>\n",
       "      <td>2</td>\n",
       "      <td>30.2</td>\n",
       "      <td>-2.500993</td>\n",
       "      <td>0.09</td>\n",
       "      <td>45</td>\n",
       "      <td>3.528571</td>\n",
       "      <td>12</td>\n",
       "      <td>3</td>\n",
       "      <td>Other</td>\n",
       "    </tr>\n",
       "    <tr>\n",
       "      <th>29</th>\n",
       "      <td>1.361768</td>\n",
       "      <td>3.169925</td>\n",
       "      <td>3.000000</td>\n",
       "      <td>2</td>\n",
       "      <td>10.3</td>\n",
       "      <td>-3.472488</td>\n",
       "      <td>0.00</td>\n",
       "      <td>60</td>\n",
       "      <td>3.472488</td>\n",
       "      <td>12</td>\n",
       "      <td>7</td>\n",
       "      <td>Other</td>\n",
       "    </tr>\n",
       "    <tr>\n",
       "      <th>33</th>\n",
       "      <td>0.879706</td>\n",
       "      <td>2.321928</td>\n",
       "      <td>3.584963</td>\n",
       "      <td>2</td>\n",
       "      <td>14.0</td>\n",
       "      <td>-2.760271</td>\n",
       "      <td>0.00</td>\n",
       "      <td>55</td>\n",
       "      <td>4.393004</td>\n",
       "      <td>10</td>\n",
       "      <td>8</td>\n",
       "      <td>Other</td>\n",
       "    </tr>\n",
       "    <tr>\n",
       "      <th>34</th>\n",
       "      <td>1.918386</td>\n",
       "      <td>1.000000</td>\n",
       "      <td>3.321928</td>\n",
       "      <td>2</td>\n",
       "      <td>11.3</td>\n",
       "      <td>-3.702396</td>\n",
       "      <td>0.04</td>\n",
       "      <td>55</td>\n",
       "      <td>4.763412</td>\n",
       "      <td>12</td>\n",
       "      <td>3</td>\n",
       "      <td>Other</td>\n",
       "    </tr>\n",
       "    <tr>\n",
       "      <th>25</th>\n",
       "      <td>3.104337</td>\n",
       "      <td>3.700440</td>\n",
       "      <td>2.584963</td>\n",
       "      <td>2</td>\n",
       "      <td>17.3</td>\n",
       "      <td>0.309872</td>\n",
       "      <td>0.31</td>\n",
       "      <td>45</td>\n",
       "      <td>1.691534</td>\n",
       "      <td>12</td>\n",
       "      <td>2</td>\n",
       "      <td>Other</td>\n",
       "    </tr>\n",
       "    <tr>\n",
       "      <th>10</th>\n",
       "      <td>2.070389</td>\n",
       "      <td>4.523562</td>\n",
       "      <td>2.584963</td>\n",
       "      <td>4</td>\n",
       "      <td>5.4</td>\n",
       "      <td>0.994397</td>\n",
       "      <td>0.29</td>\n",
       "      <td>60</td>\n",
       "      <td>2.813525</td>\n",
       "      <td>12</td>\n",
       "      <td>10</td>\n",
       "      <td>Major</td>\n",
       "    </tr>\n",
       "    <tr>\n",
       "      <th>22</th>\n",
       "      <td>1.500802</td>\n",
       "      <td>2.321928</td>\n",
       "      <td>3.169925</td>\n",
       "      <td>2</td>\n",
       "      <td>11.1</td>\n",
       "      <td>-2.491703</td>\n",
       "      <td>0.00</td>\n",
       "      <td>50</td>\n",
       "      <td>3.509696</td>\n",
       "      <td>12</td>\n",
       "      <td>8</td>\n",
       "      <td>Major</td>\n",
       "    </tr>\n",
       "    <tr>\n",
       "      <th>11</th>\n",
       "      <td>2.204767</td>\n",
       "      <td>4.321928</td>\n",
       "      <td>3.169925</td>\n",
       "      <td>4</td>\n",
       "      <td>11.2</td>\n",
       "      <td>0.362106</td>\n",
       "      <td>0.15</td>\n",
       "      <td>50</td>\n",
       "      <td>3.731183</td>\n",
       "      <td>12</td>\n",
       "      <td>2</td>\n",
       "      <td>Major</td>\n",
       "    </tr>\n",
       "    <tr>\n",
       "      <th>27</th>\n",
       "      <td>1.550901</td>\n",
       "      <td>3.321928</td>\n",
       "      <td>3.321928</td>\n",
       "      <td>2</td>\n",
       "      <td>18.0</td>\n",
       "      <td>-2.842736</td>\n",
       "      <td>0.00</td>\n",
       "      <td>55</td>\n",
       "      <td>3.848998</td>\n",
       "      <td>12</td>\n",
       "      <td>6</td>\n",
       "      <td>Other</td>\n",
       "    </tr>\n",
       "  </tbody>\n",
       "</table>\n",
       "</div>"
      ],
      "text/plain": [
       "      lgRate     lgADT    lgTrks  Lane  Acpt    lgSigs   Itg  Slim     lgLen  \\\n",
       "4   0.687061  4.807355  3.584963     4   2.2 -4.322649  0.65    70  4.322649   \n",
       "28  2.903038  3.584963  2.807355     2  30.2 -2.500993  0.09    45  3.528571   \n",
       "29  1.361768  3.169925  3.000000     2  10.3 -3.472488  0.00    60  3.472488   \n",
       "33  0.879706  2.321928  3.584963     2  14.0 -2.760271  0.00    55  4.393004   \n",
       "34  1.918386  1.000000  3.321928     2  11.3 -3.702396  0.04    55  4.763412   \n",
       "25  3.104337  3.700440  2.584963     2  17.3  0.309872  0.31    45  1.691534   \n",
       "10  2.070389  4.523562  2.584963     4   5.4  0.994397  0.29    60  2.813525   \n",
       "22  1.500802  2.321928  3.169925     2  11.1 -2.491703  0.00    50  3.509696   \n",
       "11  2.204767  4.321928  3.169925     4  11.2  0.362106  0.15    50  3.731183   \n",
       "27  1.550901  3.321928  3.321928     2  18.0 -2.842736  0.00    55  3.848998   \n",
       "\n",
       "    Lwid  Shld        Hwy  \n",
       "4     12    10  Principal  \n",
       "28    12     3      Other  \n",
       "29    12     7      Other  \n",
       "33    10     8      Other  \n",
       "34    12     3      Other  \n",
       "25    12     2      Other  \n",
       "10    12    10      Major  \n",
       "22    12     8      Major  \n",
       "11    12     2      Major  \n",
       "27    12     6      Other  "
      ]
     },
     "execution_count": 4,
     "metadata": {},
     "output_type": "execute_result"
    }
   ],
   "source": [
    "# Explore the type of data and feature names\n",
    "df.sample(10, random_state=0)"
   ]
  },
  {
   "cell_type": "code",
   "execution_count": 5,
   "metadata": {
    "colab": {},
    "colab_type": "code",
    "id": "4GzyKnGPXr8n"
   },
   "outputs": [],
   "source": [
    "# Split data into features (X) and responses (y)\n",
    "X = df.iloc[:, 1:11] \n",
    "y = df.loc[:,\"lgRate\"]"
   ]
  },
  {
   "cell_type": "code",
   "execution_count": 6,
   "metadata": {
    "colab": {},
    "colab_type": "code",
    "id": "kPOi2Sm9Xr8q",
    "outputId": "0ee4504f-fd61-43e7-c2a1-4239aa5cb7ef"
   },
   "outputs": [
    {
     "data": {
      "text/html": [
       "<div>\n",
       "<style scoped>\n",
       "    .dataframe tbody tr th:only-of-type {\n",
       "        vertical-align: middle;\n",
       "    }\n",
       "\n",
       "    .dataframe tbody tr th {\n",
       "        vertical-align: top;\n",
       "    }\n",
       "\n",
       "    .dataframe thead th {\n",
       "        text-align: right;\n",
       "    }\n",
       "</style>\n",
       "<table border=\"1\" class=\"dataframe\">\n",
       "  <thead>\n",
       "    <tr style=\"text-align: right;\">\n",
       "      <th></th>\n",
       "      <th>lgADT</th>\n",
       "      <th>lgTrks</th>\n",
       "      <th>Lane</th>\n",
       "      <th>Acpt</th>\n",
       "      <th>lgSigs</th>\n",
       "      <th>Itg</th>\n",
       "      <th>Slim</th>\n",
       "      <th>lgLen</th>\n",
       "      <th>Lwid</th>\n",
       "      <th>Shld</th>\n",
       "    </tr>\n",
       "  </thead>\n",
       "  <tbody>\n",
       "    <tr>\n",
       "      <th>0</th>\n",
       "      <td>6.108524</td>\n",
       "      <td>3.000000</td>\n",
       "      <td>8</td>\n",
       "      <td>4.6</td>\n",
       "      <td>-2.319040</td>\n",
       "      <td>1.20</td>\n",
       "      <td>55</td>\n",
       "      <td>2.319040</td>\n",
       "      <td>12</td>\n",
       "      <td>10</td>\n",
       "    </tr>\n",
       "    <tr>\n",
       "      <th>1</th>\n",
       "      <td>6.189825</td>\n",
       "      <td>3.000000</td>\n",
       "      <td>4</td>\n",
       "      <td>4.4</td>\n",
       "      <td>-4.009885</td>\n",
       "      <td>1.43</td>\n",
       "      <td>60</td>\n",
       "      <td>4.009885</td>\n",
       "      <td>12</td>\n",
       "      <td>10</td>\n",
       "    </tr>\n",
       "    <tr>\n",
       "      <th>2</th>\n",
       "      <td>5.614710</td>\n",
       "      <td>3.321928</td>\n",
       "      <td>4</td>\n",
       "      <td>4.7</td>\n",
       "      <td>-3.285402</td>\n",
       "      <td>1.54</td>\n",
       "      <td>60</td>\n",
       "      <td>3.285402</td>\n",
       "      <td>12</td>\n",
       "      <td>10</td>\n",
       "    </tr>\n",
       "    <tr>\n",
       "      <th>3</th>\n",
       "      <td>5.930737</td>\n",
       "      <td>3.700440</td>\n",
       "      <td>6</td>\n",
       "      <td>3.8</td>\n",
       "      <td>-3.412782</td>\n",
       "      <td>0.94</td>\n",
       "      <td>65</td>\n",
       "      <td>3.412782</td>\n",
       "      <td>12</td>\n",
       "      <td>10</td>\n",
       "    </tr>\n",
       "    <tr>\n",
       "      <th>4</th>\n",
       "      <td>4.807355</td>\n",
       "      <td>3.584963</td>\n",
       "      <td>4</td>\n",
       "      <td>2.2</td>\n",
       "      <td>-4.322649</td>\n",
       "      <td>0.65</td>\n",
       "      <td>70</td>\n",
       "      <td>4.322649</td>\n",
       "      <td>12</td>\n",
       "      <td>10</td>\n",
       "    </tr>\n",
       "  </tbody>\n",
       "</table>\n",
       "</div>"
      ],
      "text/plain": [
       "      lgADT    lgTrks  Lane  Acpt    lgSigs   Itg  Slim     lgLen  Lwid  Shld\n",
       "0  6.108524  3.000000     8   4.6 -2.319040  1.20    55  2.319040    12    10\n",
       "1  6.189825  3.000000     4   4.4 -4.009885  1.43    60  4.009885    12    10\n",
       "2  5.614710  3.321928     4   4.7 -3.285402  1.54    60  3.285402    12    10\n",
       "3  5.930737  3.700440     6   3.8 -3.412782  0.94    65  3.412782    12    10\n",
       "4  4.807355  3.584963     4   2.2 -4.322649  0.65    70  4.322649    12    10"
      ]
     },
     "execution_count": 6,
     "metadata": {},
     "output_type": "execute_result"
    }
   ],
   "source": [
    "X.head()"
   ]
  },
  {
   "cell_type": "code",
   "execution_count": 7,
   "metadata": {
    "colab": {},
    "colab_type": "code",
    "id": "NGZttj3bXr8s",
    "outputId": "2de737c4-664a-41ac-ea63-583bba39bf7c"
   },
   "outputs": [
    {
     "data": {
      "text/plain": [
       "0    2.195348\n",
       "1    1.516015\n",
       "2    1.594549\n",
       "3    1.195348\n",
       "4    0.687061\n",
       "Name: lgRate, dtype: float64"
      ]
     },
     "execution_count": 7,
     "metadata": {},
     "output_type": "execute_result"
    }
   ],
   "source": [
    "y.head()"
   ]
  },
  {
   "cell_type": "code",
   "execution_count": 8,
   "metadata": {
    "colab": {},
    "colab_type": "code",
    "id": "BK6dU7H1Xr8u"
   },
   "outputs": [],
   "source": [
    "# Change the array shape of the output from a dataframe single column vector\n",
    "# to a contiguous flattened array\n",
    "y = np.ravel(y)"
   ]
  },
  {
   "cell_type": "code",
   "execution_count": 11,
   "metadata": {
    "colab": {},
    "colab_type": "code",
    "id": "axPdHbCdXr8w"
   },
   "outputs": [],
   "source": [
    "# Split the data into the training and testing sets\n",
    "X_train, X_test, y_train, y_test = train_test_split(X, y, random_state=0)"
   ]
  },
  {
   "cell_type": "code",
   "execution_count": 12,
   "metadata": {
    "colab": {},
    "colab_type": "code",
    "id": "fc_gwtKPXr8y"
   },
   "outputs": [],
   "source": [
    "# Scale the data\n",
    "scaler = StandardScaler()  \n",
    "\n",
    "# Remember to fit using only the training data\n",
    "scaler.fit(X_train)  \n",
    "X_train = scaler.transform(X_train)  \n",
    "\n",
    "# Apply the same transformation to the test data\n",
    "X_test = scaler.transform(X_test)"
   ]
  },
  {
   "cell_type": "code",
   "execution_count": 13,
   "metadata": {
    "colab": {},
    "colab_type": "code",
    "id": "sYt-zFixXr85",
    "outputId": "f9f3d129-609a-4833-fc60-4cfadc9a2f57"
   },
   "outputs": [
    {
     "data": {
      "text/plain": [
       "0.5428594220140155"
      ]
     },
     "execution_count": 13,
     "metadata": {},
     "output_type": "execute_result"
    }
   ],
   "source": [
    "# Fit and check MSE before regularisation\n",
    "reg = MLPRegressor(max_iter=3000, hidden_layer_sizes=(5,5), random_state=1) \n",
    "reg.fit(X_train, y_train)\n",
    "\n",
    "# Predict\n",
    "y_pred = reg.predict(X_test)\n",
    "\n",
    "# MSE before regularisation\n",
    "mean_squared_error(y_pred, y_test)"
   ]
  },
  {
   "cell_type": "markdown",
   "metadata": {
    "colab_type": "text",
    "id": "zUFyCGaPP8H-"
   },
   "source": [
    "The regularisation parameter is used to \"apply the brakes\". A sequence of numbers that are exponentially decaying is created to account for the complexity near 0. A larger value represents a simpler problem complexity. "
   ]
  },
  {
   "cell_type": "code",
   "execution_count": 14,
   "metadata": {
    "colab": {},
    "colab_type": "code",
    "id": "hlmYTsh-Xr87",
    "outputId": "8103b7b8-4fc5-493a-f98f-c0bc4f6cc755"
   },
   "outputs": [
    {
     "name": "stdout",
     "output_type": "stream",
     "text": [
      " alpha  |  Sq.Error\n",
      "0.04979 |  0.943812\n",
      "0.08208 |  0.900985\n",
      "0.13534 |  0.837286\n",
      "0.22313 |  0.734059\n",
      "0.36788 |  0.497314\n",
      "0.60653 |  0.378430\n",
      "1.00000 |  0.304295\n",
      "1.64872 |  0.271792\n",
      "2.71828 |  0.254646\n",
      "4.48169 |  0.238763\n",
      "7.38906 |  0.271952\n",
      "12.18249 |  0.437175\n",
      "20.08554 |  0.498687\n",
      "33.11545 |  0.510189\n",
      "54.59815 |  0.516371\n",
      "90.01713 |  0.522172\n"
     ]
    },
    {
     "data": {
      "text/plain": [
       "Text(0, 0.5, 'Mean Sq Error')"
      ]
     },
     "execution_count": 14,
     "metadata": {},
     "output_type": "execute_result"
    },
    {
     "data": {
      "image/png": "[encoded data removed]",
      "text/plain": [
       "<Figure size 432x288 with 1 Axes>"
      ]
     },
     "metadata": {
      "needs_background": "light"
     },
     "output_type": "display_data"
    }
   ],
   "source": [
    "# Find the optimum regularisation parameter\n",
    "reg_par = [np.e**n for n in np.arange(-3,5,0.5)]\n",
    "\n",
    "# Optimise the neural network regularisation\n",
    "validation_scores = {}\n",
    "print(\" alpha  |  Sq.Error\")   \n",
    "for param in reg_par:\n",
    "    reg = MLPRegressor(max_iter=6000, hidden_layer_sizes=(5,5), \n",
    "                       alpha=param, random_state=1)\n",
    "    score = cross_val_score(estimator=reg, X=X_train, y=y_train, \n",
    "                            cv=3, scoring=\"neg_mean_squared_error\")\n",
    "    validation_scores[param] = -score.mean()\n",
    "    print(\"%0.5f |  %0.6f\" % (param, -score.mean()))   \n",
    "\n",
    "# Plot the error function    \n",
    "plt.plot([np.log(i) for i in validation_scores.keys()], list(validation_scores.values()))\n",
    "plt.xlabel(\"Ln of alpha\")\n",
    "plt.ylabel(\"Mean Sq Error\")\n"
   ]
  },
  {
   "cell_type": "code",
   "execution_count": 15,
   "metadata": {
    "colab": {},
    "colab_type": "code",
    "id": "ZDcOomyrXr89",
    "outputId": "7634aea4-8973-42e5-ecc2-70ee9b181054"
   },
   "outputs": [
    {
     "name": "stdout",
     "output_type": "stream",
     "text": [
      "The lowest cross validation error is 0.238763\n",
      "This corresponds to regularisation parameter e**1.5\n"
     ]
    }
   ],
   "source": [
    "# Find the regularisation parameter with the lowest error\n",
    "print(\"The lowest cross validation error is %f\" % min(validation_scores.values()))        \n",
    "print(\"This corresponds to regularisation parameter e**%s\" % \n",
    "      ([np.log(name) for name, score in validation_scores.items()\n",
    "                         if score==min(validation_scores.values())][0]))"
   ]
  },
  {
   "cell_type": "markdown",
   "metadata": {
    "colab_type": "text",
    "id": "m3q-4G-AwbeN"
   },
   "source": [
    "The regularisation parameter found via cross-validation is $e^{1.5}$. This means that the task is relatively simple."
   ]
  },
  {
   "cell_type": "code",
   "execution_count": 16,
   "metadata": {
    "colab": {},
    "colab_type": "code",
    "id": "UTuitoVGXr8_",
    "outputId": "7eac6939-d582-486f-a9d4-90d6346eb21e"
   },
   "outputs": [
    {
     "data": {
      "text/plain": [
       "MLPRegressor(activation='relu', alpha=0.22313016014842985, batch_size='auto',\n",
       "             beta_1=0.9, beta_2=0.999, early_stopping=False, epsilon=1e-08,\n",
       "             hidden_layer_sizes=(5, 5), learning_rate='constant',\n",
       "             learning_rate_init=0.001, max_fun=15000, max_iter=6000,\n",
       "             momentum=0.9, n_iter_no_change=10, nesterovs_momentum=True,\n",
       "             power_t=0.5, random_state=1, shuffle=True, solver='adam',\n",
       "             tol=0.0001, validation_fraction=0.1, verbose=False,\n",
       "             warm_start=False)"
      ]
     },
     "execution_count": 16,
     "metadata": {},
     "output_type": "execute_result"
    }
   ],
   "source": [
    "# Fit the data with the best parameter\n",
    "reg = MLPRegressor(max_iter=6000, hidden_layer_sizes=(5,5), \n",
    "                   alpha=np.e**(-1.5), random_state=1)\n",
    "reg.fit(X_train, y_train)\n",
    "# Does not fully converge without changing max_iter"
   ]
  },
  {
   "cell_type": "code",
   "execution_count": 17,
   "metadata": {
    "colab": {},
    "colab_type": "code",
    "id": "1MNp7iOtXr9B",
    "outputId": "96eebf1b-4e14-4d7c-9f1c-0885b8f13b22"
   },
   "outputs": [
    {
     "data": {
      "text/plain": [
       "0.4444875332669106"
      ]
     },
     "execution_count": 17,
     "metadata": {},
     "output_type": "execute_result"
    }
   ],
   "source": [
    "# Predict\n",
    "y_pred = reg.predict(X_test)\n",
    "\n",
    "# MSE final\n",
    "mean_squared_error(y_pred, y_test)"
   ]
  },
  {
   "cell_type": "markdown",
   "metadata": {
    "colab_type": "text",
    "id": "rDqJ7yltOyzj"
   },
   "source": [
    "Notice the decrease in error before and after regularisation."
   ]
  },
  {
   "cell_type": "markdown",
   "metadata": {
    "colab_type": "text",
    "id": "jEEuXDMoungT"
   },
   "source": [
    "For production purposes, you would then use a regressor fitted on the entire data set (X,y), not just the test data."
   ]
  },
  {
   "cell_type": "code",
   "execution_count": null,
   "metadata": {
    "colab": {},
    "colab_type": "code",
    "id": "YsrO01AGXr9D",
    "outputId": "ba630787-b147-4472-a930-17f232f290d9"
   },
   "outputs": [],
   "source": [
    "# Visualise by drawing a response function\n",
    "# Observe each of the predictors individually vs lgRate\n",
    "\n",
    "for variable in X.columns:\n",
    "    # Copy the dataframe, so as not to change the original, and obtain medians\n",
    "    X_design = X.copy()\n",
    "    X_design_vec = pd.DataFrame(X_design.median()).transpose()\n",
    "\n",
    "    # Grab the min and max of desired variable and set up a sequence\n",
    "    min_res = min(X.loc[:, variable])\n",
    "    max_res = max(X.loc[:, variable])\n",
    "    seq = np.linspace(start=min_res, stop=max_res, num=50)\n",
    "\n",
    "    # Set up a list of moving resultants\n",
    "    to_predict = []\n",
    "    for result in seq:\n",
    "        X_design_vec.loc[0, variable] = result\n",
    "        to_predict.append(X_design_vec.copy())\n",
    "\n",
    "    # Convert back to DataFrame\n",
    "    to_predict = pd.concat(to_predict)\n",
    "\n",
    "    # Scale and predict\n",
    "    to_predict = scaler.transform(to_predict)\n",
    "    predictions = reg.predict(to_predict)\n",
    "\n",
    "    # Plot \n",
    "    plt.plot(seq, predictions)\n",
    "    plt.xlabel(variable)\n",
    "    plt.ylabel(\"lgRate\")\n",
    "    plt.title(\"lgRate vs. \" + variable)\n",
    "    plt.show()"
   ]
  },
  {
   "cell_type": "markdown",
   "metadata": {
    "colab_type": "text",
    "id": "bZWS4346Xr9R"
   },
   "source": [
    "## Practice"
   ]
  },
  {
   "cell_type": "markdown",
   "metadata": {
    "colab_type": "text",
    "id": "xr8mAziqOyzm"
   },
   "source": [
    "Find the optimum regularisation parameter if `hidden_layer_sizes = (8,3)`."
   ]
  },
  {
   "cell_type": "code",
   "execution_count": 18,
   "metadata": {
    "colab": {},
    "colab_type": "code",
    "deletable": false,
    "id": "PzylJOI6Oyzo",
    "nbgrader": {
     "cell_type": "code",
     "checksum": "e4f1f18bb05b7ccc4db4b2c0a3712086",
     "grade": true,
     "grade_id": "cell-7fffd56ae1a9db6b",
     "locked": false,
     "points": 0,
     "schema_version": 3,
     "solution": true,
     "task": false
    },
    "outputId": "93c3375c-01e3-4123-b883-80d8f57c3fab"
   },
   "outputs": [
    {
     "name": "stdout",
     "output_type": "stream",
     "text": [
      " alpha  |  Sq.Error\n",
      "0.04979 |  0.511397\n",
      "0.08208 |  0.484542\n",
      "0.13534 |  0.467532\n",
      "0.22313 |  0.416223\n",
      "0.36788 |  0.397518\n",
      "0.60653 |  0.319572\n",
      "1.00000 |  0.256146\n",
      "1.64872 |  0.218676\n",
      "2.71828 |  0.206764\n",
      "4.48169 |  0.276141\n",
      "7.38906 |  0.440793\n",
      "12.18249 |  0.470698\n",
      "20.08554 |  0.469335\n",
      "33.11545 |  0.466729\n",
      "54.59815 |  0.464250\n",
      "90.01713 |  0.463838\n",
      "148.41316 |  0.465099\n",
      "244.69193 |  0.467566\n",
      "403.42879 |  0.470332\n",
      "665.14163 |  0.472757\n",
      "1096.63316 |  0.474592\n",
      "1808.04241 |  0.475892\n",
      "The lowest cross validation error is 0.206764\n",
      "This corresponds to regularisation parameter e**1.0\n"
     ]
    },
    {
     "data": {
      "image/png": "[encoded data removed]",
      "text/plain": [
       "<Figure size 432x288 with 1 Axes>"
      ]
     },
     "metadata": {
      "needs_background": "light"
     },
     "output_type": "display_data"
    }
   ],
   "source": [
    "# Find optimum regularisation parameter\n",
    "# Hint: Change the range in the following line of code.\n",
    "# reg_par = [np.e**n for n in np.arange(?,?,?)]\n",
    "\n",
    "# YOUR CODE HERE\n",
    "reg_par = [np.e**n for n in np.arange(-3,8,0.5)]\n",
    "\n",
    "# Optimise neural network regularisation\n",
    "validation_scores = {}\n",
    "print(\" alpha  |  Sq.Error\")   \n",
    "for param in reg_par:\n",
    "    reg = MLPRegressor(max_iter=6000, hidden_layer_sizes=(8,3), \n",
    "                       alpha=param, random_state=1)\n",
    "    score = cross_val_score(estimator=reg, X=X_train, y=y_train, \n",
    "                            cv=3, scoring=\"neg_mean_squared_error\")\n",
    "    validation_scores[param] = -score.mean()\n",
    "    print(\"%0.5f |  %0.6f\" % (param, -score.mean())) \n",
    "    \n",
    "# Plot the error function    \n",
    "plt.plot([np.log(i) for i in validation_scores.keys()], list(validation_scores.values()))\n",
    "plt.xlabel(\"Ln of alpha\")\n",
    "plt.ylabel(\"Mean Sq Error\")\n",
    "\n",
    "# Find the regularisation parameter with the lowest error\n",
    "print(\"The lowest cross validation error is %f\" % min(validation_scores.values()))        \n",
    "print(\"This corresponds to regularisation parameter e**%s\" % \n",
    "      ([np.log(name) for name, score in validation_scores.items()\n",
    "                         if score==min(validation_scores.values())][0]))"
   ]
  },
  {
   "cell_type": "code",
   "execution_count": null,
   "metadata": {},
   "outputs": [],
   "source": []
  }
 ],
 "metadata": {
  "colab": {
   "collapsed_sections": [],
   "name": "UCT_DSS_M5U2_IDE_Notebook_(code)_v14_ed.ipynb",
   "provenance": []
  },
  "kernelspec": {
   "display_name": "Python 3",
   "language": "python",
   "name": "python3"
  },
  "language_info": {
   "codemirror_mode": {
    "name": "ipython",
    "version": 3
   },
   "file_extension": ".py",
   "mimetype": "text/x-python",
   "name": "python",
   "nbconvert_exporter": "python",
   "pygments_lexer": "ipython3",
   "version": "3.8.5"
  }
 },
 "nbformat": 4,
 "nbformat_minor": 4
}
